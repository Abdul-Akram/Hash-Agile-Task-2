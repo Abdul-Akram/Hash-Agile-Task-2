{
 "cells": [
  {
   "cell_type": "code",
   "execution_count": 1,
   "metadata": {},
   "outputs": [
    {
     "name": "stdout",
     "output_type": "stream",
     "text": [
      "Defaulting to user installation because normal site-packages is not writeable\n",
      "Requirement already satisfied: requests in c:\\users\\abdul\\appdata\\local\\packages\\pythonsoftwarefoundation.python.3.12_qbz5n2kfra8p0\\localcache\\local-packages\\python312\\site-packages (2.31.0)\n",
      "Requirement already satisfied: charset-normalizer<4,>=2 in c:\\users\\abdul\\appdata\\local\\packages\\pythonsoftwarefoundation.python.3.12_qbz5n2kfra8p0\\localcache\\local-packages\\python312\\site-packages (from requests) (3.3.2)\n",
      "Requirement already satisfied: idna<4,>=2.5 in c:\\users\\abdul\\appdata\\local\\packages\\pythonsoftwarefoundation.python.3.12_qbz5n2kfra8p0\\localcache\\local-packages\\python312\\site-packages (from requests) (3.7)\n",
      "Requirement already satisfied: urllib3<3,>=1.21.1 in c:\\users\\abdul\\appdata\\local\\packages\\pythonsoftwarefoundation.python.3.12_qbz5n2kfra8p0\\localcache\\local-packages\\python312\\site-packages (from requests) (2.2.1)\n",
      "Requirement already satisfied: certifi>=2017.4.17 in c:\\users\\abdul\\appdata\\local\\packages\\pythonsoftwarefoundation.python.3.12_qbz5n2kfra8p0\\localcache\\local-packages\\python312\\site-packages (from requests) (2024.2.2)\n"
     ]
    },
    {
     "name": "stderr",
     "output_type": "stream",
     "text": [
      "\n",
      "[notice] A new release of pip is available: 24.2 -> 24.3.1\n",
      "[notice] To update, run: C:\\Users\\abdul\\AppData\\Local\\Microsoft\\WindowsApps\\PythonSoftwareFoundation.Python.3.12_qbz5n2kfra8p0\\python.exe -m pip install --upgrade pip\n"
     ]
    }
   ],
   "source": [
    "!pip install requests"
   ]
  },
  {
   "cell_type": "code",
   "execution_count": 23,
   "metadata": {},
   "outputs": [],
   "source": [
    "import requests\n",
    "import json\n",
    "\n",
    "# Base URL for Elasticsearch running on port 8989\n",
    "BASE_URL = \"http://localhost:8989\"\n",
    "\n",
    "# Function to create a collection (index) in Elasticsearch\n",
    "def createCollection(p_collection_name):\n",
    "    response = requests.put(f\"{BASE_URL}/{p_collection_name}\")\n",
    "    if response.status_code == 200:\n",
    "        print(f\"Collection '{p_collection_name}' created successfully.\")\n",
    "    else:\n",
    "        print(f\"Failed to create collection '{p_collection_name}': {response.text}\")\n",
    "\n",
    "# Function to index data into the specified collection, excluding a given column\n",
    "def indexData(p_collection_name, p_exclude_column, dataset):\n",
    "    for record in dataset:\n",
    "        # Remove the excluded column from the record\n",
    "        if p_exclude_column in record:\n",
    "            del record[p_exclude_column]\n",
    "        \n",
    "        # Index the record\n",
    "        response = requests.post(f\"{BASE_URL}/{p_collection_name}/_doc\", json=record)\n",
    "        if response.status_code == 201:\n",
    "            print(f\"Document indexed in collection '{p_collection_name}'.\")\n",
    "        else:\n",
    "            print(f\"Failed to index document: {response.text}\")\n",
    "\n",
    "# Function to search records by a column value in the specified collection\n",
    "def searchByColumn(p_collection_name, p_column_name, p_column_value):\n",
    "    query = {\n",
    "        \"query\": {\n",
    "            \"term\": {\n",
    "                p_column_name: p_column_value\n",
    "            }\n",
    "        }\n",
    "    }\n",
    "    response = requests.post(f\"{BASE_URL}/{p_collection_name}/_search\", json=query)\n",
    "    if response.status_code == 200:\n",
    "        results = response.json()\n",
    "        return results['hits']['hits']\n",
    "    else:\n",
    "        print(f\"Failed to search: {response.text}\")\n",
    "        return None\n",
    "\n",
    "# Function to get the count of employees in the specified collection\n",
    "def getEmpCount(p_collection_name):\n",
    "    response = requests.get(f\"{BASE_URL}/{p_collection_name}/_count\")\n",
    "    if response.status_code == 200:\n",
    "        count = response.json().get('count')\n",
    "        return count\n",
    "    else:\n",
    "        print(f\"Failed to get count: {response.text}\")\n",
    "        return None\n",
    "\n",
    "# Function to delete an employee by ID in the specified collection\n",
    "def delEmpById(p_collection_name, p_employee_id):\n",
    "    response = requests.delete(f\"{BASE_URL}/{p_collection_name}/_doc/{p_employee_id}\")\n",
    "    if response.status_code == 200:\n",
    "        print(f\"Employee with ID '{p_employee_id}' deleted successfully.\")\n",
    "    else:\n",
    "        print(f\"Failed to delete employee: {response.text}\")\n",
    "\n",
    "# Function to get the department facet (count of employees by department)\n",
    "def getDepFacet(p_collection_name):\n",
    "    query = {\n",
    "        \"size\": 0,\n",
    "        \"aggs\": {\n",
    "            \"department_count\": {\n",
    "                \"terms\": {\n",
    "                    \"field\": \"Department.keyword\"\n",
    "                }\n",
    "            }\n",
    "        }\n",
    "    }\n",
    "    response = requests.post(f\"{BASE_URL}/{p_collection_name}/_search\", json=query)\n",
    "    if response.status_code == 200:\n",
    "        return response.json()['aggregations']['department_count']['buckets']\n",
    "    else:\n",
    "        print(f\"Failed to get department facet: {response.text}\")\n",
    "        return None\n"
   ]
  },
  {
   "cell_type": "code",
   "execution_count": 24,
   "metadata": {},
   "outputs": [],
   "source": [
    "v_nameCollection = \"hash_abdulakram\"\n",
    "v_phoneCollection = \"hash_2967\"\n"
   ]
  },
  {
   "cell_type": "code",
   "execution_count": 25,
   "metadata": {},
   "outputs": [
    {
     "name": "stdout",
     "output_type": "stream",
     "text": [
      "Collection 'abdulakram' created successfully.\n",
      "Failed to create collection 'E02967': {\"error\":{\"root_cause\":[{\"type\":\"invalid_index_name_exception\",\"reason\":\"Invalid index name [E02967], must be lowercase\",\"index_uuid\":\"_na_\",\"index\":\"E02967\"}],\"type\":\"invalid_index_name_exception\",\"reason\":\"Invalid index name [E02967], must be lowercase\",\"index_uuid\":\"_na_\",\"index\":\"E02967\"},\"status\":400}\n"
     ]
    }
   ],
   "source": [
    "createCollection(v_nameCollection)\n",
    "createCollection(v_phoneCollection)\n"
   ]
  },
  {
   "cell_type": "code",
   "execution_count": 17,
   "metadata": {},
   "outputs": [],
   "source": [
    "import pandas as pd\n",
    "\n",
    "# Load dataset from CSV and convert to dictionary format\n",
    "dataset = pd.read_csv(\"employee_data.csv\")\n",
    "dataset.dropna(inplace=True)\n",
    "dataset = dataset.to_dict(orient='records')"
   ]
  },
  {
   "cell_type": "code",
   "execution_count": 18,
   "metadata": {},
   "outputs": [
    {
     "name": "stdout",
     "output_type": "stream",
     "text": [
      "Document indexed in collection 'hash_abdulakram'.\n",
      "Document indexed in collection 'hash_abdulakram'.\n",
      "Document indexed in collection 'hash_abdulakram'.\n",
      "Document indexed in collection 'hash_abdulakram'.\n",
      "Document indexed in collection 'hash_abdulakram'.\n",
      "Document indexed in collection 'hash_abdulakram'.\n",
      "Document indexed in collection 'hash_abdulakram'.\n",
      "Document indexed in collection 'hash_abdulakram'.\n",
      "Document indexed in collection 'hash_abdulakram'.\n",
      "Document indexed in collection 'hash_abdulakram'.\n",
      "Document indexed in collection 'hash_abdulakram'.\n",
      "Document indexed in collection 'hash_abdulakram'.\n",
      "Document indexed in collection 'hash_abdulakram'.\n",
      "Document indexed in collection 'hash_abdulakram'.\n",
      "Document indexed in collection 'hash_abdulakram'.\n",
      "Document indexed in collection 'hash_abdulakram'.\n",
      "Document indexed in collection 'hash_abdulakram'.\n",
      "Document indexed in collection 'hash_abdulakram'.\n",
      "Document indexed in collection 'hash_abdulakram'.\n",
      "Document indexed in collection 'hash_abdulakram'.\n",
      "Document indexed in collection 'hash_abdulakram'.\n",
      "Document indexed in collection 'hash_abdulakram'.\n",
      "Document indexed in collection 'hash_abdulakram'.\n",
      "Document indexed in collection 'hash_abdulakram'.\n",
      "Document indexed in collection 'hash_abdulakram'.\n",
      "Document indexed in collection 'hash_abdulakram'.\n",
      "Document indexed in collection 'hash_abdulakram'.\n",
      "Document indexed in collection 'hash_abdulakram'.\n",
      "Document indexed in collection 'hash_abdulakram'.\n",
      "Document indexed in collection 'hash_abdulakram'.\n",
      "Document indexed in collection 'hash_abdulakram'.\n",
      "Document indexed in collection 'hash_abdulakram'.\n",
      "Document indexed in collection 'hash_abdulakram'.\n",
      "Document indexed in collection 'hash_abdulakram'.\n",
      "Document indexed in collection 'hash_abdulakram'.\n",
      "Document indexed in collection 'hash_abdulakram'.\n",
      "Document indexed in collection 'hash_abdulakram'.\n",
      "Document indexed in collection 'hash_abdulakram'.\n",
      "Document indexed in collection 'hash_abdulakram'.\n",
      "Document indexed in collection 'hash_abdulakram'.\n",
      "Document indexed in collection 'hash_abdulakram'.\n",
      "Document indexed in collection 'hash_abdulakram'.\n",
      "Document indexed in collection 'hash_abdulakram'.\n",
      "Document indexed in collection 'hash_abdulakram'.\n",
      "Document indexed in collection 'hash_abdulakram'.\n",
      "Document indexed in collection 'hash_abdulakram'.\n",
      "Document indexed in collection 'hash_abdulakram'.\n",
      "Document indexed in collection 'hash_abdulakram'.\n",
      "Document indexed in collection 'hash_abdulakram'.\n",
      "Document indexed in collection 'hash_abdulakram'.\n",
      "Document indexed in collection 'hash_abdulakram'.\n",
      "Document indexed in collection 'hash_abdulakram'.\n",
      "Document indexed in collection 'hash_abdulakram'.\n",
      "Document indexed in collection 'hash_abdulakram'.\n",
      "Document indexed in collection 'hash_abdulakram'.\n",
      "Document indexed in collection 'hash_abdulakram'.\n",
      "Document indexed in collection 'hash_abdulakram'.\n",
      "Document indexed in collection 'hash_abdulakram'.\n",
      "Document indexed in collection 'hash_abdulakram'.\n",
      "Document indexed in collection 'hash_abdulakram'.\n",
      "Document indexed in collection 'hash_abdulakram'.\n",
      "Document indexed in collection 'hash_abdulakram'.\n",
      "Document indexed in collection 'hash_abdulakram'.\n",
      "Document indexed in collection 'hash_abdulakram'.\n",
      "Document indexed in collection 'hash_abdulakram'.\n",
      "Document indexed in collection 'hash_abdulakram'.\n",
      "Document indexed in collection 'hash_abdulakram'.\n",
      "Document indexed in collection 'hash_abdulakram'.\n",
      "Document indexed in collection 'hash_abdulakram'.\n",
      "Document indexed in collection 'hash_abdulakram'.\n",
      "Document indexed in collection 'hash_abdulakram'.\n",
      "Document indexed in collection 'hash_abdulakram'.\n",
      "Document indexed in collection 'hash_abdulakram'.\n",
      "Document indexed in collection 'hash_abdulakram'.\n",
      "Document indexed in collection 'hash_abdulakram'.\n",
      "Document indexed in collection 'hash_abdulakram'.\n",
      "Document indexed in collection 'hash_abdulakram'.\n",
      "Document indexed in collection 'hash_abdulakram'.\n",
      "Document indexed in collection 'hash_abdulakram'.\n",
      "Document indexed in collection 'hash_abdulakram'.\n",
      "Document indexed in collection 'hash_abdulakram'.\n",
      "Document indexed in collection 'hash_abdulakram'.\n",
      "Document indexed in collection 'hash_abdulakram'.\n",
      "Document indexed in collection 'hash_abdulakram'.\n",
      "Document indexed in collection 'hash_abdulakram'.\n",
      "Document indexed in collection 'hash_abdulakram'.\n",
      "Document indexed in collection 'hash_abdulakram'.\n",
      "Document indexed in collection 'hash_abdulakram'.\n",
      "Document indexed in collection 'hash_abdulakram'.\n",
      "Document indexed in collection 'hash_abdulakram'.\n",
      "Document indexed in collection 'hash_abdulakram'.\n",
      "Document indexed in collection 'hash_abdulakram'.\n",
      "Document indexed in collection 'hash_abdulakram'.\n",
      "Document indexed in collection 'hash_abdulakram'.\n",
      "Document indexed in collection 'hash_abdulakram'.\n",
      "Document indexed in collection 'hash_abdulakram'.\n",
      "Document indexed in collection 'hash_abdulakram'.\n",
      "Document indexed in collection 'hash_abdulakram'.\n",
      "Document indexed in collection 'hash_abdulakram'.\n",
      "Document indexed in collection 'hash_abdulakram'.\n",
      "Document indexed in collection 'hash_abdulakram'.\n",
      "Document indexed in collection 'hash_abdulakram'.\n",
      "Document indexed in collection 'hash_2967'.\n",
      "Document indexed in collection 'hash_2967'.\n",
      "Document indexed in collection 'hash_2967'.\n",
      "Document indexed in collection 'hash_2967'.\n",
      "Document indexed in collection 'hash_2967'.\n",
      "Document indexed in collection 'hash_2967'.\n",
      "Document indexed in collection 'hash_2967'.\n",
      "Document indexed in collection 'hash_2967'.\n",
      "Document indexed in collection 'hash_2967'.\n",
      "Document indexed in collection 'hash_2967'.\n",
      "Document indexed in collection 'hash_2967'.\n",
      "Document indexed in collection 'hash_2967'.\n",
      "Document indexed in collection 'hash_2967'.\n",
      "Document indexed in collection 'hash_2967'.\n",
      "Document indexed in collection 'hash_2967'.\n",
      "Document indexed in collection 'hash_2967'.\n",
      "Document indexed in collection 'hash_2967'.\n",
      "Document indexed in collection 'hash_2967'.\n",
      "Document indexed in collection 'hash_2967'.\n",
      "Document indexed in collection 'hash_2967'.\n",
      "Document indexed in collection 'hash_2967'.\n",
      "Document indexed in collection 'hash_2967'.\n",
      "Document indexed in collection 'hash_2967'.\n",
      "Document indexed in collection 'hash_2967'.\n",
      "Document indexed in collection 'hash_2967'.\n",
      "Document indexed in collection 'hash_2967'.\n",
      "Document indexed in collection 'hash_2967'.\n",
      "Document indexed in collection 'hash_2967'.\n",
      "Document indexed in collection 'hash_2967'.\n",
      "Document indexed in collection 'hash_2967'.\n",
      "Document indexed in collection 'hash_2967'.\n",
      "Document indexed in collection 'hash_2967'.\n",
      "Document indexed in collection 'hash_2967'.\n",
      "Document indexed in collection 'hash_2967'.\n",
      "Document indexed in collection 'hash_2967'.\n",
      "Document indexed in collection 'hash_2967'.\n",
      "Document indexed in collection 'hash_2967'.\n",
      "Document indexed in collection 'hash_2967'.\n",
      "Document indexed in collection 'hash_2967'.\n",
      "Document indexed in collection 'hash_2967'.\n",
      "Document indexed in collection 'hash_2967'.\n",
      "Document indexed in collection 'hash_2967'.\n",
      "Document indexed in collection 'hash_2967'.\n",
      "Document indexed in collection 'hash_2967'.\n",
      "Document indexed in collection 'hash_2967'.\n",
      "Document indexed in collection 'hash_2967'.\n",
      "Document indexed in collection 'hash_2967'.\n",
      "Document indexed in collection 'hash_2967'.\n",
      "Document indexed in collection 'hash_2967'.\n",
      "Document indexed in collection 'hash_2967'.\n",
      "Document indexed in collection 'hash_2967'.\n",
      "Document indexed in collection 'hash_2967'.\n",
      "Document indexed in collection 'hash_2967'.\n",
      "Document indexed in collection 'hash_2967'.\n",
      "Document indexed in collection 'hash_2967'.\n",
      "Document indexed in collection 'hash_2967'.\n",
      "Document indexed in collection 'hash_2967'.\n",
      "Document indexed in collection 'hash_2967'.\n",
      "Document indexed in collection 'hash_2967'.\n",
      "Document indexed in collection 'hash_2967'.\n",
      "Document indexed in collection 'hash_2967'.\n",
      "Document indexed in collection 'hash_2967'.\n",
      "Document indexed in collection 'hash_2967'.\n",
      "Document indexed in collection 'hash_2967'.\n",
      "Document indexed in collection 'hash_2967'.\n",
      "Document indexed in collection 'hash_2967'.\n",
      "Document indexed in collection 'hash_2967'.\n",
      "Document indexed in collection 'hash_2967'.\n",
      "Document indexed in collection 'hash_2967'.\n",
      "Document indexed in collection 'hash_2967'.\n",
      "Document indexed in collection 'hash_2967'.\n",
      "Document indexed in collection 'hash_2967'.\n",
      "Document indexed in collection 'hash_2967'.\n",
      "Document indexed in collection 'hash_2967'.\n",
      "Document indexed in collection 'hash_2967'.\n",
      "Document indexed in collection 'hash_2967'.\n",
      "Document indexed in collection 'hash_2967'.\n",
      "Document indexed in collection 'hash_2967'.\n",
      "Document indexed in collection 'hash_2967'.\n",
      "Document indexed in collection 'hash_2967'.\n",
      "Document indexed in collection 'hash_2967'.\n",
      "Document indexed in collection 'hash_2967'.\n",
      "Document indexed in collection 'hash_2967'.\n",
      "Document indexed in collection 'hash_2967'.\n",
      "Document indexed in collection 'hash_2967'.\n",
      "Document indexed in collection 'hash_2967'.\n",
      "Document indexed in collection 'hash_2967'.\n",
      "Document indexed in collection 'hash_2967'.\n",
      "Document indexed in collection 'hash_2967'.\n",
      "Document indexed in collection 'hash_2967'.\n",
      "Document indexed in collection 'hash_2967'.\n",
      "Document indexed in collection 'hash_2967'.\n",
      "Document indexed in collection 'hash_2967'.\n",
      "Document indexed in collection 'hash_2967'.\n",
      "Document indexed in collection 'hash_2967'.\n",
      "Document indexed in collection 'hash_2967'.\n",
      "Document indexed in collection 'hash_2967'.\n",
      "Document indexed in collection 'hash_2967'.\n",
      "Document indexed in collection 'hash_2967'.\n",
      "Document indexed in collection 'hash_2967'.\n",
      "Document indexed in collection 'hash_2967'.\n",
      "Document indexed in collection 'hash_2967'.\n"
     ]
    }
   ],
   "source": [
    "indexData(v_nameCollection, 'Department', dataset)\n",
    "indexData(v_phoneCollection, 'Gender', dataset)\n"
   ]
  },
  {
   "cell_type": "code",
   "execution_count": 19,
   "metadata": {},
   "outputs": [
    {
     "name": "stdout",
     "output_type": "stream",
     "text": [
      "Employee count: 102\n"
     ]
    }
   ],
   "source": [
    "print(\"Employee count:\", getEmpCount(v_nameCollection))\n"
   ]
  },
  {
   "cell_type": "code",
   "execution_count": 20,
   "metadata": {},
   "outputs": [
    {
     "name": "stdout",
     "output_type": "stream",
     "text": [
      "Failed to delete employee: {\"_index\":\"hash_abdulakram\",\"_id\":\"E02003\",\"_version\":1,\"result\":\"not_found\",\"_shards\":{\"total\":2,\"successful\":1,\"failed\":0},\"_seq_no\":102,\"_primary_term\":1}\n"
     ]
    }
   ],
   "source": [
    "delEmpById(v_nameCollection, \"E02003\")\n"
   ]
  },
  {
   "cell_type": "code",
   "execution_count": 21,
   "metadata": {},
   "outputs": [
    {
     "name": "stdout",
     "output_type": "stream",
     "text": [
      "Search by Department 'IT': []\n",
      "Search by Gender 'Male': []\n",
      "Search by Department 'IT' in phone collection: []\n"
     ]
    }
   ],
   "source": [
    "print(\"Search by Department 'IT':\", searchByColumn(v_nameCollection, \"Department\", \"IT\"))\n",
    "print(\"Search by Gender 'Male':\", searchByColumn(v_nameCollection, \"Gender\", \"Male\"))\n",
    "print(\"Search by Department 'IT' in phone collection:\", searchByColumn(v_phoneCollection, \"Department\", \"IT\"))\n"
   ]
  },
  {
   "cell_type": "code",
   "execution_count": 22,
   "metadata": {},
   "outputs": [
    {
     "name": "stdout",
     "output_type": "stream",
     "text": [
      "Department Facet: []\n",
      "Department Facet in phone collection: []\n"
     ]
    }
   ],
   "source": [
    "print(\"Department Facet:\", getDepFacet(v_nameCollection))\n",
    "print(\"Department Facet in phone collection:\", getDepFacet(v_phoneCollection))\n"
   ]
  },
  {
   "cell_type": "markdown",
   "metadata": {},
   "source": []
  }
 ],
 "metadata": {
  "kernelspec": {
   "display_name": "Python 3",
   "language": "python",
   "name": "python3"
  },
  "language_info": {
   "codemirror_mode": {
    "name": "ipython",
    "version": 3
   },
   "file_extension": ".py",
   "mimetype": "text/x-python",
   "name": "python",
   "nbconvert_exporter": "python",
   "pygments_lexer": "ipython3",
   "version": "3.12.7"
  }
 },
 "nbformat": 4,
 "nbformat_minor": 2
}
